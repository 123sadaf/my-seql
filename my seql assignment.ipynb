{
 "cells": [
  {
   "cell_type": "code",
   "execution_count": null,
   "id": "8f08f1ec-9a37-4fb5-b154-0b237948e7c6",
   "metadata": {},
   "outputs": [],
   "source": [
    "Q1. What is a database? Differentiate between SQL and NoSQL databases."
   ]
  },
  {
   "cell_type": "code",
   "execution_count": null,
   "id": "42f7351f-e0b9-4dd1-b3f5-f0b721005976",
   "metadata": {},
   "outputs": [],
   "source": [
    "data base is a  storage system that has a collection of data used for easy access, management and maintainance"
   ]
  },
  {
   "cell_type": "code",
   "execution_count": null,
   "id": "6fb39374-e237-41a1-90aa-9dc3c580bead",
   "metadata": {},
   "outputs": [],
   "source": [
    "SQL -\n",
    "SQL stands for Structured Quiry Language.\n",
    "SQL is a language for defining the structure of a datbase.\n",
    "It allow user to access and manipulate the database .\n",
    "type of SQL databases are : mySQL, Oracle, MsSQL, etc.\n",
    "\n",
    "NOSQL-\n",
    "NOSQL stands for not only Structured Quiry Language.\n",
    "NOSQL can store semi structured and unstrucrured data.\n",
    "NOSQL are well suited for real time high speed data processing.\n",
    "various popular NOSQL database are including MongDB (document oriented), casandra , neo4j and apache Hbase."
   ]
  },
  {
   "cell_type": "code",
   "execution_count": null,
   "id": "6e84a381-adfb-461c-b581-ef9c92632781",
   "metadata": {},
   "outputs": [],
   "source": [
    "Q2. What is DDL? Explain why CREATE, DROP, ALTER, and TRUNCATE are used with an example."
   ]
  },
  {
   "cell_type": "code",
   "execution_count": null,
   "id": "f4245abc-6041-492b-b289-892e92e4d627",
   "metadata": {},
   "outputs": [],
   "source": [
    "DDL stand for Data Definition Language\n",
    "it is used to define , manage and modify the structure of the database , which include creating and managing database objects.\n",
    "CREATE .. CREATE is used for creating the database / and database objects.\n",
    "EXAMPLE: CREATE DATABASE IF NOT EXISTS CLASS;\n",
    "         CREATE TABLE IF NOT EXISTS Students (Roll no. INT PRIMARY KEY, F_NAME VARCHAR(12), L_NAME VARCHAR (12));\n",
    "    \n",
    "DROP.. DROP is used for deleting the database and its objects\n",
    "EXAMPLE: DROP TABLE Students; \n",
    "\n",
    "ALTER.. AlTER and the structured in the database objects \n",
    "\n",
    "TRUNCATE..TRUNCATE removes all the records permanently \n",
    "EXAMPL: TRUNCATE TABLE Students;\n"
   ]
  },
  {
   "cell_type": "code",
   "execution_count": null,
   "id": "27447813-aef3-4fbc-b042-b44ffabbc796",
   "metadata": {},
   "outputs": [],
   "source": [
    "Q3. What is DML? Explain INSERT, UPDATE, and DELETE with an example."
   ]
  },
  {
   "cell_type": "code",
   "execution_count": null,
   "id": "9c6cb68d-26c9-4ce2-bc85-f3a99abcbc87",
   "metadata": {},
   "outputs": [],
   "source": [
    "DML stands for Data Manipulation Language\n",
    "DML operations primarly involve querying , insering , updating , and deleting data database table\n",
    "\n",
    "INSERT: IT is used to insert a datat into a table \n",
    "example: INSERT INTO Students (Roll no , F_names, L_names,) VALUES ( '10', 'Sadaf', 'Khan',);\n",
    "\n",
    "UPDATE: IT is used to update the existing data within a table .\n",
    "example: UPDATE Students SETT Rollno. = 10 where F_name =  'sadaf';\n",
    "\n",
    "DELETE: it is used to delete all the data from the table \n",
    "example: delete from students WHERE Rollno. = 10;"
   ]
  },
  {
   "cell_type": "code",
   "execution_count": null,
   "id": "26736cf4-b7c2-4410-b18d-10c866a53e4b",
   "metadata": {},
   "outputs": [],
   "source": [
    "Q4. What is DQL? Explain SELECT with an example."
   ]
  },
  {
   "cell_type": "code",
   "execution_count": null,
   "id": "b5874b27-d110-4caf-a3ae-4f43e2c0f1dd",
   "metadata": {},
   "outputs": [],
   "source": [
    "DQL stands for DATA QUIRY LANGUAGE. That is specially focused on querying and retrieving data from a database .\n",
    "It is used for primarily concerned with the 'SELECT' statement.\n",
    "In MYSQL , DQL is used for retrieve and manupulate data in a read - only manner .\n",
    "\n",
    "SELECT Statement: The primary DQL statement is select . It is used to query data from one or more database table .\n",
    "With the SELECT statement , we can specify the column we want to retrieve , apply filters , performs calculation,\n",
    "and more .\n",
    "EXAMPLE-\n",
    "Select = from students;\n"
   ]
  },
  {
   "cell_type": "code",
   "execution_count": null,
   "id": "e267d492-3bc1-4a1e-999e-02908d2fda4d",
   "metadata": {},
   "outputs": [],
   "source": [
    "Q5. Explain Primary Key and Foreign Key."
   ]
  },
  {
   "cell_type": "code",
   "execution_count": null,
   "id": "7b3a9ad9-0748-45e2-9c7e-44557608ac89",
   "metadata": {},
   "outputs": [],
   "source": [
    "PRIMARY KEY is used to make a column unique & not null.\n",
    "There must be a single primary key in a  table \n",
    "It ensures data integrity and provides a fast way to retrieve specific records .\n",
    "And Primary key are typically used for referencing and linking data between tables.\n",
    "\n",
    "FOREIGN KEY: It is an attribute or sett of attributes that references to primary key of same table or another table (relation)-\n",
    "A table would be more than one foreign key.\n",
    "It is used to maintain referential integrity ."
   ]
  },
  {
   "cell_type": "code",
   "execution_count": null,
   "id": "d5a04dee-feb8-4bef-bcf6-c2cf652083ed",
   "metadata": {},
   "outputs": [],
   "source": [
    "Q6. Write a python code to connect MySQL to python. Explain the cursor() and execute() method."
   ]
  },
  {
   "cell_type": "code",
   "execution_count": null,
   "id": "4d6b678c-c66c-497a-9cec-2eeda62b500e",
   "metadata": {},
   "outputs": [],
   "source": [
    "import mysql.connector\n",
    "mydb = mysql.connector.connect(\n",
    "    host = \"localhost\",\n",
    "    user = \"abc\",\n",
    "    password = \"password\"\n",
    ")\n",
    "\n",
    "\n",
    "mycursor = mydb.cursor()\n",
    "\n",
    "cursor():-\n",
    "The cursor() method is called on the database connection (mydb) to create a cursor object.\n",
    "A cursor is like a handle or pointer that allows you to execute SQL commands and fetch results from the database.\n",
    "\n",
    "\n",
    "Execute():-\n",
    "The execute() method is called on the cursor object (mycursor) to execute SQL querries.\n",
    "It takes an arguement that you wants to execute.\n",
    "    "
   ]
  },
  {
   "cell_type": "code",
   "execution_count": null,
   "id": "28fcf1d7-e3ed-4d04-8505-b22a6d1e4e6f",
   "metadata": {},
   "outputs": [],
   "source": [
    "Q7. Give the order of execution of SQL clauses in an SQL query."
   ]
  },
  {
   "cell_type": "code",
   "execution_count": null,
   "id": "d56f9192-42a7-4cd7-b260-432c76d82a32",
   "metadata": {},
   "outputs": [],
   "source": [
    "FROM: THE FROM clause specifies the tables or data sources from which the data will be retrieved.\n",
    "\n",
    "WHERE: THE WHERE is used to filter rows from the tables specified in the FROM clause.\n",
    "Rows that meet the specified conditions are included in the result set.\n",
    "\n",
    "GROUP BY: If specified , the GROUP by clause is used to group rows based one or more columns.\n",
    "This is often used to conjuction with aggregate function like SUM, COUNT,AVG etc.\n",
    "\n",
    "HAVING: The HAVING clause is used to filter groups of rows that were created by the GROUP by clause.\n",
    "It operates similarly to the WHERE clause but acts on grouped data.\n",
    "\n",
    "SELECT: The SELECT clause specifies which coloumns or expressions should be incleded in result set.\n",
    "It follows the filtering and grouping operations.\n",
    "\n",
    "DISTINCT: If the DISTINCT keyword is used, it remove duplicate rows from the result set based on the selected columns.\n",
    "\n",
    "ORDER BY: The ORDER BY clause is used to sort the result set based on one or more columns in ascending or descending order."
   ]
  },
  {
   "cell_type": "code",
   "execution_count": null,
   "id": "88d9996f-4ccc-4932-9adf-3c08dc8391a4",
   "metadata": {},
   "outputs": [],
   "source": []
  }
 ],
 "metadata": {
  "kernelspec": {
   "display_name": "Python 3 (ipykernel)",
   "language": "python",
   "name": "python3"
  },
  "language_info": {
   "codemirror_mode": {
    "name": "ipython",
    "version": 3
   },
   "file_extension": ".py",
   "mimetype": "text/x-python",
   "name": "python",
   "nbconvert_exporter": "python",
   "pygments_lexer": "ipython3",
   "version": "3.10.8"
  }
 },
 "nbformat": 4,
 "nbformat_minor": 5
}
